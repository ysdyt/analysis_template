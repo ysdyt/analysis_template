{
 "cells": [
  {
   "cell_type": "markdown",
   "metadata": {},
   "source": [
    "## Sudachipy\n",
    "- sudachiという形態素解析器\n",
    "- https://github.com/WorksApplications/SudachiPy"
   ]
  },
  {
   "cell_type": "code",
   "execution_count": 3,
   "metadata": {},
   "outputs": [],
   "source": [
    "from sudachipy import tokenizer, dictionary"
   ]
  },
  {
   "cell_type": "code",
   "execution_count": 4,
   "metadata": {},
   "outputs": [],
   "source": [
    "tokenizer_obj = dictionary.Dictionary().create()"
   ]
  },
  {
   "cell_type": "code",
   "execution_count": 6,
   "metadata": {},
   "outputs": [
    {
     "output_type": "execute_result",
     "data": {
      "text/plain": "<SplitMode.C: 3>"
     },
     "metadata": {},
     "execution_count": 6
    }
   ],
   "source": [
    "#Cが一番大きい粒度での分割, ついでB, A\n",
    "mode = tokenizer.Tokenizer.SplitMode.C\n",
    "mode\n"
   ]
  },
  {
   "cell_type": "code",
   "execution_count": 9,
   "metadata": {},
   "outputs": [],
   "source": [
    "text = \"BrainPad社のデータサイエンティスト有志メンバーがデータサイエンスやAI界隈の話題を中心に雑談するPodcast番組です.\""
   ]
  },
  {
   "cell_type": "code",
   "execution_count": 24,
   "metadata": {},
   "outputs": [
    {
     "output_type": "execute_result",
     "data": {
      "text/plain": "['BrainPad',\n '社',\n 'の',\n 'データ',\n 'サイエンティスト',\n '有志',\n 'メンバー',\n 'が',\n 'データ',\n 'サイエンス',\n 'や',\n 'AI',\n '界隈',\n 'の',\n '話題',\n 'を',\n '中心',\n 'に',\n '雑談',\n 'する',\n 'Podcast',\n '番組',\n 'です',\n '.']"
     },
     "metadata": {},
     "execution_count": 24
    }
   ],
   "source": [
    "[m.surface() for m in tokenizer_obj.tokenize(text, mode)]"
   ]
  },
  {
   "cell_type": "code",
   "execution_count": 34,
   "metadata": {},
   "outputs": [],
   "source": [
    "morphemes = list(tokenizer_obj.tokenize(text, mode))"
   ]
  },
  {
   "cell_type": "code",
   "execution_count": 39,
   "metadata": {
    "tags": []
   },
   "outputs": [
    {
     "output_type": "stream",
     "name": "stdout",
     "text": "brainpad ['名詞', '普通名詞', '一般', '*', '*', '*']\n社 ['名詞', '普通名詞', '助数詞可能', '*', '*', '*']\nの ['助詞', '格助詞', '*', '*', '*', '*']\nデータ ['名詞', '普通名詞', '一般', '*', '*', '*']\nサイエンティスト ['名詞', '普通名詞', '一般', '*', '*', '*']\n有志 ['名詞', '普通名詞', '一般', '*', '*', '*']\nメンバー ['名詞', '普通名詞', '一般', '*', '*', '*']\nが ['助詞', '格助詞', '*', '*', '*', '*']\nデータ ['名詞', '普通名詞', '一般', '*', '*', '*']\nサイエンス ['名詞', '普通名詞', '一般', '*', '*', '*']\nや ['助詞', '副助詞', '*', '*', '*', '*']\nAI ['名詞', '普通名詞', '一般', '*', '*', '*']\n界隈 ['名詞', '普通名詞', '一般', '*', '*', '*']\nの ['助詞', '格助詞', '*', '*', '*', '*']\n話題 ['名詞', '普通名詞', '一般', '*', '*', '*']\nを ['助詞', '格助詞', '*', '*', '*', '*']\n中心 ['名詞', '普通名詞', '一般', '*', '*', '*']\nに ['助詞', '格助詞', '*', '*', '*', '*']\n雑談 ['名詞', '普通名詞', 'サ変可能', '*', '*', '*']\nする ['動詞', '非自立可能', '*', '*', 'サ行変格', '連体形-一般']\npodcast ['名詞', '普通名詞', '一般', '*', '*', '*']\n番組 ['名詞', '普通名詞', '一般', '*', '*', '*']\nです ['助動詞', '*', '*', '*', '助動詞-デス', '終止形-一般']\n. ['補助記号', '句点', '*', '*', '*', '*']\n"
    }
   ],
   "source": [
    "for m in morphemes:\n",
    "    print(m.dictionary_form(), m.part_of_speech())"
   ]
  },
  {
   "cell_type": "code",
   "execution_count": 40,
   "metadata": {},
   "outputs": [
    {
     "output_type": "execute_result",
     "data": {
      "text/plain": "['動詞', '一般', '*', '*', '下一段-バ行', '連用形-一般']"
     },
     "metadata": {},
     "execution_count": 40
    }
   ],
   "source": [
    "# Morpheme information\n",
    "\n",
    "m = tokenizer_obj.tokenize(\"食べ\", mode)[0]\n",
    "\n",
    "# mは以下のメソッドを持っている\n",
    "m.surface() # => '食べ'\n",
    "m.dictionary_form() # => '食べる'\n",
    "m.reading_form() # => 'タベ'\n",
    "m.part_of_speech() # => ['動詞', '一般', '*', '*', '下一段-バ行', '連用形-一般']"
   ]
  },
  {
   "cell_type": "code",
   "execution_count": 60,
   "metadata": {},
   "outputs": [],
   "source": [
    "# 特定の品詞だけを取得したい場合はこんな感じ\n",
    "target_word_list = []\n",
    "target_part = ('名詞')\n",
    "\n",
    "target_word_list = [m.surface() for m in tokenizer_obj.tokenize(text, mode) if m.part_of_speech()[0] in target_part]"
   ]
  },
  {
   "cell_type": "code",
   "execution_count": 61,
   "metadata": {},
   "outputs": [
    {
     "output_type": "execute_result",
     "data": {
      "text/plain": "['BrainPad',\n '社',\n 'データ',\n 'サイエンティスト',\n '有志',\n 'メンバー',\n 'データ',\n 'サイエンス',\n 'AI',\n '界隈',\n '話題',\n '中心',\n '雑談',\n 'Podcast',\n '番組']"
     },
     "metadata": {},
     "execution_count": 61
    }
   ],
   "source": [
    "target_word_list"
   ]
  },
  {
   "cell_type": "markdown",
   "metadata": {},
   "source": [
    "### ちなみにmecabを使うとこうなる"
   ]
  },
  {
   "cell_type": "code",
   "execution_count": 64,
   "metadata": {},
   "outputs": [],
   "source": [
    "import MeCab"
   ]
  },
  {
   "cell_type": "code",
   "execution_count": 75,
   "metadata": {},
   "outputs": [],
   "source": [
    "mecab = MeCab.Tagger ('-d /usr/local/lib/mecab/dic/mecab-ipadic-neologd')\n",
    "node = mecab.parseToNode(text)\n",
    "\n",
    "# 特定の品詞だけを取得する\n",
    "target_part = ('名詞')\n",
    "word = []\n",
    "\n",
    "while node:\n",
    "    if node.feature.split(\",\")[0] in target_part:\n",
    "        word.append(node.surface)\n",
    "    node = node.next    "
   ]
  },
  {
   "cell_type": "code",
   "execution_count": 76,
   "metadata": {},
   "outputs": [
    {
     "output_type": "execute_result",
     "data": {
      "text/plain": "['BrainPad',\n '社',\n 'データサイエンティスト',\n '有志',\n 'メンバー',\n 'データサイエンス',\n 'AI',\n '界隈',\n '話題',\n '中心',\n '雑談',\n 'Podcast',\n '番組']"
     },
     "metadata": {},
     "execution_count": 76
    }
   ],
   "source": [
    "word"
   ]
  },
  {
   "cell_type": "code",
   "execution_count": null,
   "metadata": {},
   "outputs": [],
   "source": []
  }
 ],
 "metadata": {
  "language_info": {
   "codemirror_mode": {
    "name": "ipython",
    "version": 3
   },
   "file_extension": ".py",
   "mimetype": "text/x-python",
   "name": "python",
   "nbconvert_exporter": "python",
   "pygments_lexer": "ipython3",
   "version": "3.8.0-final"
  },
  "orig_nbformat": 2,
  "kernelspec": {
   "name": "python38064bitkagglemessonpyenvbd785c08be2b4d7b8d58d648188f4ebc",
   "display_name": "Python 3.8.0 64-bit ('kaggle-messon': pyenv)"
  }
 },
 "nbformat": 4,
 "nbformat_minor": 2
}